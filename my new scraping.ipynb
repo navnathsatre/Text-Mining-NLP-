{
 "cells": [
  {
   "cell_type": "code",
   "execution_count": 1,
   "id": "38f2d951",
   "metadata": {},
   "outputs": [
    {
     "name": "stdout",
     "output_type": "stream",
     "text": [
      "Requirement already satisfied: beautifulsoup4 in c:\\users\\admin\\anaconda3\\lib\\site-packages (4.9.3)\n",
      "Requirement already satisfied: soupsieve>1.2 in c:\\users\\admin\\anaconda3\\lib\\site-packages (from beautifulsoup4) (2.2.1)\n"
     ]
    }
   ],
   "source": [
    "# !pip install beautifulsoup4"
   ]
  },
  {
   "cell_type": "code",
   "execution_count": 4,
   "id": "4fd7cdd9",
   "metadata": {},
   "outputs": [],
   "source": [
    "import urllib.request\n",
    "from bs4 import BeautifulSoup"
   ]
  },
  {
   "cell_type": "code",
   "execution_count": 40,
   "id": "682352b9",
   "metadata": {},
   "outputs": [
    {
     "data": {
      "text/plain": [
       "'UTF-8'"
      ]
     },
     "execution_count": 40,
     "metadata": {},
     "output_type": "execute_result"
    }
   ],
   "source": [
    "import requests\n",
    "r = requests.get('https://www.analyticsvidhya.com/blog/2021/05/25-questions-to-test-your-skills-on-decision-trees/')\n",
    "r.status_code\n",
    "# {'disk_usage': 368627, 'private_gists': 484, ...}\n",
    "\n",
    "r.headers['content-type']\n",
    "\n",
    "r.encoding\n",
    "\n",
    "# r.text\n",
    "\n",
    "# r.json()"
   ]
  },
  {
   "cell_type": "code",
   "execution_count": 46,
   "id": "95f8baa2",
   "metadata": {},
   "outputs": [
    {
     "name": "stdout",
     "output_type": "stream",
     "text": [
      "\n",
      "./articles/CAIiEFItSCvV_Td8DdaznoBWguMqGQgEKhAIACoHCAowj8n_CjDIrfkCMJWZ2AY?hl=en-IN&gl=IN&ceid=IN%3Aen\n",
      "\n",
      "./articles/CAIiEFItSCvV_Td8DdaznoBWguMqGQgEKhAIACoHCAowj8n_CjDIrfkCMJWZ2AY?hl=en-IN&gl=IN&ceid=IN%3Aen\n",
      "\n",
      "./articles/CAIiEFItSCvV_Td8DdaznoBWguMqGQgEKhAIACoHCAowj8n_CjDIrfkCMJWZ2AY?hl=en-IN&gl=IN&ceid=IN%3Aen\n",
      "\n",
      "./articles/CAIiENzTxX3BJ-EmsufyB-AClOwqGQgEKhAIACoHCAowj8n_CjDIrfkCMJWZ2AY?hl=en-IN&gl=IN&ceid=IN%3Aen\n",
      "\n",
      "./articles/CAIiENzTxX3BJ-EmsufyB-AClOwqGQgEKhAIACoHCAowj8n_CjDIrfkCMJWZ2AY?hl=en-IN&gl=IN&ceid=IN%3Aen\n",
      "\n",
      "./articles/CAIiEDLSTkapmqFdz5POr35lnPMqMwgEKioIACIQukpDkFnrHbDQGyBDxSojnyoUCAoiELpKQ5BZ6x2w0BsgQ8UqI58w157nBg?hl=en-IN&gl=IN&ceid=IN%3Aen\n",
      "\n",
      "./articles/CAIiEDLSTkapmqFdz5POr35lnPMqMwgEKioIACIQukpDkFnrHbDQGyBDxSojnyoUCAoiELpKQ5BZ6x2w0BsgQ8UqI58w157nBg?hl=en-IN&gl=IN&ceid=IN%3Aen\n",
      "\n",
      "./articles/CBMihwFodHRwczovL3d3dy5uZXdpbmRpYW5leHByZXNzLmNvbS9vcGluaW9ucy9lZGl0b3JpYWxzLzIwMjEvc2VwLzEzL3Bvd2VyLWJhY2std2l0aC1wYXRpZGFycy1hcy1ianAtcmVzZXRzLWd1amFyYXQtbGVhZGVyc2hpcC0yMzU3ODI0Lmh0bWzSAYYBaHR0cHM6Ly93d3cubmV3aW5kaWFuZXhwcmVzcy5jb20vb3BpbmlvbnMvZWRpdG9yaWFscy8yMDIxL3NlcC8xMy9wb3dlci1iYWNrLXdpdGgtcGF0aWRhcnMtYXMtYmpwLXJlc2V0cy1ndWphcmF0LWxlYWRlcnNoaXAtMjM1NzgyNC5hbXA?hl=en-IN&gl=IN&ceid=IN%3Aen\n",
      "\n",
      "./articles/CBMihwFodHRwczovL3d3dy5uZXdpbmRpYW5leHByZXNzLmNvbS9vcGluaW9ucy9lZGl0b3JpYWxzLzIwMjEvc2VwLzEzL3Bvd2VyLWJhY2std2l0aC1wYXRpZGFycy1hcy1ianAtcmVzZXRzLWd1amFyYXQtbGVhZGVyc2hpcC0yMzU3ODI0Lmh0bWzSAYYBaHR0cHM6Ly93d3cubmV3aW5kaWFuZXhwcmVzcy5jb20vb3BpbmlvbnMvZWRpdG9yaWFscy8yMDIxL3NlcC8xMy9wb3dlci1iYWNrLXdpdGgtcGF0aWRhcnMtYXMtYmpwLXJlc2V0cy1ndWphcmF0LWxlYWRlcnNoaXAtMjM1NzgyNC5hbXA?hl=en-IN&gl=IN&ceid=IN%3Aen\n",
      "\n",
      "./articles/CAIiEDo30iGL0zFwWIS4LABz16QqFwgEKg4IACoGCAoww7k_MMevCDDT5KQD?hl=en-IN&gl=IN&ceid=IN%3Aen\n",
      "\n",
      "./articles/CAIiEDo30iGL0zFwWIS4LABz16QqFwgEKg4IACoGCAoww7k_MMevCDDT5KQD?hl=en-IN&gl=IN&ceid=IN%3Aen\n",
      "\n",
      "./articles/CAIiEKJ-xj-EZX0L3wiRyaoyiEUqGAgEKg8IACoHCAow3rvTBDD89X4w8ZXmBQ?hl=en-IN&gl=IN&ceid=IN%3Aen\n",
      "\n",
      "./articles/CAIiEKJ-xj-EZX0L3wiRyaoyiEUqGAgEKg8IACoHCAow3rvTBDD89X4w8ZXmBQ?hl=en-IN&gl=IN&ceid=IN%3Aen\n",
      "\n",
      "./articles/CAIiEKJ-xj-EZX0L3wiRyaoyiEUqGAgEKg8IACoHCAow3rvTBDD89X4w8ZXmBQ?hl=en-IN&gl=IN&ceid=IN%3Aen\n",
      "\n",
      "./articles/CAIiEBdfKT3-7uQ9Dn6B3ErVN9QqGQgEKhAIACoHCAowj8n_CjDIrfkCMJWZ2AY?hl=en-IN&gl=IN&ceid=IN%3Aen\n",
      "\n",
      "./articles/CAIiEBdfKT3-7uQ9Dn6B3ErVN9QqGQgEKhAIACoHCAowj8n_CjDIrfkCMJWZ2AY?hl=en-IN&gl=IN&ceid=IN%3Aen\n",
      "\n",
      "./articles/CBMikAFodHRwczovL3RpbWVzb2ZpbmRpYS5pbmRpYXRpbWVzLmNvbS9pbmRpYS9ub3QtYS1tYXR0ZXItZm9yLXB1YmxpYy1kb21haW4td29udC1maWxlLWFmZmlkYXZpdC1vbi1wZWdhc3VzLWNlbnRyZS10ZWxscy1zYy9hcnRpY2xlc2hvdy84NjE1OTAzMS5jbXPSAYsBaHR0cHM6Ly9tLnRpbWVzb2ZpbmRpYS5jb20vaW5kaWEvbm90LWEtbWF0dGVyLWZvci1wdWJsaWMtZG9tYWluLXdvbnQtZmlsZS1hZmZpZGF2aXQtb24tcGVnYXN1cy1jZW50cmUtdGVsbHMtc2MvYW1wX2FydGljbGVzaG93Lzg2MTU5MDMxLmNtcw?hl=en-IN&gl=IN&ceid=IN%3Aen\n",
      "\n",
      "./articles/CBMikAFodHRwczovL3RpbWVzb2ZpbmRpYS5pbmRpYXRpbWVzLmNvbS9pbmRpYS9ub3QtYS1tYXR0ZXItZm9yLXB1YmxpYy1kb21haW4td29udC1maWxlLWFmZmlkYXZpdC1vbi1wZWdhc3VzLWNlbnRyZS10ZWxscy1zYy9hcnRpY2xlc2hvdy84NjE1OTAzMS5jbXPSAYsBaHR0cHM6Ly9tLnRpbWVzb2ZpbmRpYS5jb20vaW5kaWEvbm90LWEtbWF0dGVyLWZvci1wdWJsaWMtZG9tYWluLXdvbnQtZmlsZS1hZmZpZGF2aXQtb24tcGVnYXN1cy1jZW50cmUtdGVsbHMtc2MvYW1wX2FydGljbGVzaG93Lzg2MTU5MDMxLmNtcw?hl=en-IN&gl=IN&ceid=IN%3Aen\n",
      "\n",
      "./articles/CAIiEEA1pn8R4GeUVgDVtIWWL5EqFwgEKg4IACoGCAowxLQ_MNevCDDnvNMF?hl=en-IN&gl=IN&ceid=IN%3Aen\n",
      "\n",
      "./articles/CAIiEEA1pn8R4GeUVgDVtIWWL5EqFwgEKg4IACoGCAowxLQ_MNevCDDnvNMF?hl=en-IN&gl=IN&ceid=IN%3Aen\n",
      "\n",
      "./articles/CAIiEOvo6jlTtXz0rmiLzUU-ZCoqGQgEKhAIACoHCAowwqP5CjDypeECMP6WwgU?hl=en-IN&gl=IN&ceid=IN%3Aen\n",
      "\n",
      "./articles/CAIiEOvo6jlTtXz0rmiLzUU-ZCoqGQgEKhAIACoHCAowwqP5CjDypeECMP6WwgU?hl=en-IN&gl=IN&ceid=IN%3Aen\n",
      "\n",
      "./articles/CAIiEIiMuoYOG854dg1JJyYKx2sqGQgEKhAIACoHCAowwqP5CjDypeECMI6VwgU?hl=en-IN&gl=IN&ceid=IN%3Aen\n",
      "\n",
      "./articles/CAIiEIiMuoYOG854dg1JJyYKx2sqGQgEKhAIACoHCAowwqP5CjDypeECMI6VwgU?hl=en-IN&gl=IN&ceid=IN%3Aen\n",
      "\n",
      "./articles/CAIiEIiMuoYOG854dg1JJyYKx2sqGQgEKhAIACoHCAowwqP5CjDypeECMI6VwgU?hl=en-IN&gl=IN&ceid=IN%3Aen\n",
      "\n",
      "./articles/CCAiCzNqem1LTm51bkRjmAEB?hl=en-IN&gl=IN&ceid=IN%3Aen\n",
      "\n",
      "./articles/CCAiCzNqem1LTm51bkRjmAEB?hl=en-IN&gl=IN&ceid=IN%3Aen\n",
      "\n",
      "./articles/CAIiEAiHTZMXZO8gj41YtcB3I7kqGQgEKhAIACoHCAow5qqNCzD4q58DMKGR1gY?hl=en-IN&gl=IN&ceid=IN%3Aen\n",
      "\n",
      "./articles/CAIiEAiHTZMXZO8gj41YtcB3I7kqGQgEKhAIACoHCAow5qqNCzD4q58DMKGR1gY?hl=en-IN&gl=IN&ceid=IN%3Aen\n",
      "\n",
      "./articles/CAIiEGM_aI57yaBr_H-SVYGEMNMqFwgEKg4IACoGCAoww7k_MMevCDCj7PkG?hl=en-IN&gl=IN&ceid=IN%3Aen\n",
      "\n",
      "./articles/CAIiEGM_aI57yaBr_H-SVYGEMNMqFwgEKg4IACoGCAoww7k_MMevCDCj7PkG?hl=en-IN&gl=IN&ceid=IN%3Aen\n",
      "\n",
      "./articles/CCAiC1NLRXUzVnJEZHVVmAEB?hl=en-IN&gl=IN&ceid=IN%3Aen\n",
      "\n",
      "./articles/CCAiC1NLRXUzVnJEZHVVmAEB?hl=en-IN&gl=IN&ceid=IN%3Aen\n",
      "\n",
      "./articles/CAIiEEnUw5S3SjOmfnIF1ItPIcYqFwgEKg4IACoGCAoww7k_MMevCDC0rdgG?hl=en-IN&gl=IN&ceid=IN%3Aen\n",
      "\n",
      "./articles/CAIiEEnUw5S3SjOmfnIF1ItPIcYqFwgEKg4IACoGCAoww7k_MMevCDC0rdgG?hl=en-IN&gl=IN&ceid=IN%3Aen\n",
      "\n",
      "./articles/CAIiEEnUw5S3SjOmfnIF1ItPIcYqFwgEKg4IACoGCAoww7k_MMevCDC0rdgG?hl=en-IN&gl=IN&ceid=IN%3Aen\n",
      "\n",
      "./articles/CAIiEBqGBulkp-wGJtb--h0AQfQqFwgEKg4IACoGCAowxLQ_MNevCDDnvNMF?hl=en-IN&gl=IN&ceid=IN%3Aen\n",
      "\n",
      "./articles/CAIiEBqGBulkp-wGJtb--h0AQfQqFwgEKg4IACoGCAowxLQ_MNevCDDnvNMF?hl=en-IN&gl=IN&ceid=IN%3Aen\n",
      "\n",
      "./articles/CCAiC0pnWmhjTXFKMEh3mAEB?hl=en-IN&gl=IN&ceid=IN%3Aen\n",
      "\n",
      "./articles/CCAiC0pnWmhjTXFKMEh3mAEB?hl=en-IN&gl=IN&ceid=IN%3Aen\n",
      "\n",
      "./articles/CAIiENIsEqzt32dno673Tm2x4cIqGQgEKhAIACoHCAowib-NCzDawJ8DMIzCsQY?hl=en-IN&gl=IN&ceid=IN%3Aen\n",
      "\n",
      "./articles/CAIiENIsEqzt32dno673Tm2x4cIqGQgEKhAIACoHCAowib-NCzDawJ8DMIzCsQY?hl=en-IN&gl=IN&ceid=IN%3Aen\n",
      "\n",
      "./articles/CBMilgFodHRwczovL3RpbWVzb2ZpbmRpYS5pbmRpYXRpbWVzLmNvbS9jaXR5L2RlbGhpL2J1aWxkaW5nLWNvbGxhcHNlcy1pbi1ub3J0aC1kZWxoaXMtc2FiemktbWFuZGktYXJlYS1yZXNjdWUtb3BlcmF0aW9ucy11bmRlcndheS9hcnRpY2xlc2hvdy84NjE2MjAzNC5jbXPSAZEBaHR0cHM6Ly9tLnRpbWVzb2ZpbmRpYS5jb20vY2l0eS9kZWxoaS9idWlsZGluZy1jb2xsYXBzZXMtaW4tbm9ydGgtZGVsaGlzLXNhYnppLW1hbmRpLWFyZWEtcmVzY3VlLW9wZXJhdGlvbnMtdW5kZXJ3YXkvYW1wX2FydGljbGVzaG93Lzg2MTYyMDM0LmNtcw?hl=en-IN&gl=IN&ceid=IN%3Aen\n",
      "\n",
      "./articles/CBMilgFodHRwczovL3RpbWVzb2ZpbmRpYS5pbmRpYXRpbWVzLmNvbS9jaXR5L2RlbGhpL2J1aWxkaW5nLWNvbGxhcHNlcy1pbi1ub3J0aC1kZWxoaXMtc2FiemktbWFuZGktYXJlYS1yZXNjdWUtb3BlcmF0aW9ucy11bmRlcndheS9hcnRpY2xlc2hvdy84NjE2MjAzNC5jbXPSAZEBaHR0cHM6Ly9tLnRpbWVzb2ZpbmRpYS5jb20vY2l0eS9kZWxoaS9idWlsZGluZy1jb2xsYXBzZXMtaW4tbm9ydGgtZGVsaGlzLXNhYnppLW1hbmRpLWFyZWEtcmVzY3VlLW9wZXJhdGlvbnMtdW5kZXJ3YXkvYW1wX2FydGljbGVzaG93Lzg2MTYyMDM0LmNtcw?hl=en-IN&gl=IN&ceid=IN%3Aen\n",
      "\n",
      "./articles/CAIiENnr3TDbXqPZi5bDLkBDK2sqGQgEKhAIACoHCAowr6n9CjCr4PQCMI781QM?hl=en-IN&gl=IN&ceid=IN%3Aen\n",
      "\n",
      "./articles/CAIiENnr3TDbXqPZi5bDLkBDK2sqGQgEKhAIACoHCAowr6n9CjCr4PQCMI781QM?hl=en-IN&gl=IN&ceid=IN%3Aen\n",
      "\n",
      "./articles/CAIiENnr3TDbXqPZi5bDLkBDK2sqGQgEKhAIACoHCAowr6n9CjCr4PQCMI781QM?hl=en-IN&gl=IN&ceid=IN%3Aen\n",
      "\n",
      "./articles/CAIiEFqfmgakpaIE8TE9yAGXsC8qGQgEKhAIACoHCAow5qqNCzD4q58DMPbXpwY?hl=en-IN&gl=IN&ceid=IN%3Aen\n",
      "\n",
      "./articles/CAIiEFqfmgakpaIE8TE9yAGXsC8qGQgEKhAIACoHCAow5qqNCzD4q58DMPbXpwY?hl=en-IN&gl=IN&ceid=IN%3Aen\n",
      "\n",
      "./articles/CBMiggFodHRwczovL2Vjb25vbWljdGltZXMuaW5kaWF0aW1lcy5jb20vbnJpL21pZ3JhdGUvbmV3LXByb3Zpc2lvbnMtY291bGQtZWFzZS1ncmVlbi1jYXJkLXByb2Nlc3MtZm9yLWluZGlhbnMvYXJ0aWNsZXNob3cvODYxNjA2NDAuY21z0gF9aHR0cHM6Ly9tLmVjb25vbWljdGltZXMuY29tL25yaS9taWdyYXRlL25ldy1wcm92aXNpb25zLWNvdWxkLWVhc2UtZ3JlZW4tY2FyZC1wcm9jZXNzLWZvci1pbmRpYW5zL2FtcF9hcnRpY2xlc2hvdy84NjE2MDY0MC5jbXM?hl=en-IN&gl=IN&ceid=IN%3Aen\n",
      "\n",
      "./articles/CBMiggFodHRwczovL2Vjb25vbWljdGltZXMuaW5kaWF0aW1lcy5jb20vbnJpL21pZ3JhdGUvbmV3LXByb3Zpc2lvbnMtY291bGQtZWFzZS1ncmVlbi1jYXJkLXByb2Nlc3MtZm9yLWluZGlhbnMvYXJ0aWNsZXNob3cvODYxNjA2NDAuY21z0gF9aHR0cHM6Ly9tLmVjb25vbWljdGltZXMuY29tL25yaS9taWdyYXRlL25ldy1wcm92aXNpb25zLWNvdWxkLWVhc2UtZ3JlZW4tY2FyZC1wcm9jZXNzLWZvci1pbmRpYW5zL2FtcF9hcnRpY2xlc2hvdy84NjE2MDY0MC5jbXM?hl=en-IN&gl=IN&ceid=IN%3Aen\n",
      "\n",
      "./articles/CAIiED7KCVMEZx1JCpaNnsWO1JwqGQgEKhAIACoHCAow5qqNCzD4q58DMMPepwY?hl=en-IN&gl=IN&ceid=IN%3Aen\n",
      "\n",
      "./articles/CAIiED7KCVMEZx1JCpaNnsWO1JwqGQgEKhAIACoHCAow5qqNCzD4q58DMMPepwY?hl=en-IN&gl=IN&ceid=IN%3Aen\n",
      "\n",
      "./articles/CAIiED7KCVMEZx1JCpaNnsWO1JwqGQgEKhAIACoHCAow5qqNCzD4q58DMMPepwY?hl=en-IN&gl=IN&ceid=IN%3Aen\n",
      "\n",
      "./articles/CAIiEHRuAmTbAH1ddwKpSMq75ZsqFwgEKg4IACoGCAoww7k_MMevCDCj7PkG?hl=en-IN&gl=IN&ceid=IN%3Aen\n",
      "\n",
      "./articles/CAIiEHRuAmTbAH1ddwKpSMq75ZsqFwgEKg4IACoGCAoww7k_MMevCDCj7PkG?hl=en-IN&gl=IN&ceid=IN%3Aen\n",
      "\n",
      "./articles/CBMieGh0dHBzOi8vaW5kaWFuZXhwcmVzcy5jb20vYXJ0aWNsZS9jaXRpZXMva29sa2F0YS9wcml5YW5rYS10aWJyZXdhbC1iaGFiYW5pcHVyLWJ5cG9sbC1ianAtY2FuZGlkYXRlLWZpcmhhZC1oYWtpbS03NTA0MzY2L9IBfWh0dHBzOi8vaW5kaWFuZXhwcmVzcy5jb20vYXJ0aWNsZS9jaXRpZXMva29sa2F0YS9wcml5YW5rYS10aWJyZXdhbC1iaGFiYW5pcHVyLWJ5cG9sbC1ianAtY2FuZGlkYXRlLWZpcmhhZC1oYWtpbS03NTA0MzY2L2xpdGUv?hl=en-IN&gl=IN&ceid=IN%3Aen\n",
      "\n",
      "./articles/CBMieGh0dHBzOi8vaW5kaWFuZXhwcmVzcy5jb20vYXJ0aWNsZS9jaXRpZXMva29sa2F0YS9wcml5YW5rYS10aWJyZXdhbC1iaGFiYW5pcHVyLWJ5cG9sbC1ianAtY2FuZGlkYXRlLWZpcmhhZC1oYWtpbS03NTA0MzY2L9IBfWh0dHBzOi8vaW5kaWFuZXhwcmVzcy5jb20vYXJ0aWNsZS9jaXRpZXMva29sa2F0YS9wcml5YW5rYS10aWJyZXdhbC1iaGFiYW5pcHVyLWJ5cG9sbC1ianAtY2FuZGlkYXRlLWZpcmhhZC1oYWtpbS03NTA0MzY2L2xpdGUv?hl=en-IN&gl=IN&ceid=IN%3Aen\n",
      "\n",
      "./articles/CAIiEN8cMl78cU3z6LVHaTzTiZIqGQgEKhAIACoHCAow5qqNCzD4q58DMMPepwY?hl=en-IN&gl=IN&ceid=IN%3Aen\n",
      "\n",
      "./articles/CAIiEN8cMl78cU3z6LVHaTzTiZIqGQgEKhAIACoHCAow5qqNCzD4q58DMMPepwY?hl=en-IN&gl=IN&ceid=IN%3Aen\n",
      "\n",
      "./articles/CAIiEGXTsunQOYHEu89Y-zg-hlwqFwgEKg4IACoGCAoww7k_MMevCDCj7PkG?hl=en-IN&gl=IN&ceid=IN%3Aen\n",
      "\n",
      "./articles/CAIiEGXTsunQOYHEu89Y-zg-hlwqFwgEKg4IACoGCAoww7k_MMevCDCj7PkG?hl=en-IN&gl=IN&ceid=IN%3Aen\n",
      "\n",
      "./articles/CBMigQFodHRwczovL3d3dy5pbmRpYXRvZGF5LmluL2ZhY3QtY2hlY2svc3RvcnkvZmFjdC1jaGVjay1tYW4taW4tYnVycWEtcGljdHVyZS1wcm8tdGFsaWJhbi13b21lbi1nYXRoZXJpbmctbW9ycGhlZC0xODUyMDY5LTIwMjEtMDktMTLSAQA?hl=en-IN&gl=IN&ceid=IN%3Aen\n",
      "\n",
      "./articles/CBMigQFodHRwczovL3d3dy5pbmRpYXRvZGF5LmluL2ZhY3QtY2hlY2svc3RvcnkvZmFjdC1jaGVjay1tYW4taW4tYnVycWEtcGljdHVyZS1wcm8tdGFsaWJhbi13b21lbi1nYXRoZXJpbmctbW9ycGhlZC0xODUyMDY5LTIwMjEtMDktMTLSAQA?hl=en-IN&gl=IN&ceid=IN%3Aen\n",
      "\n",
      "./articles/CBMicWh0dHBzOi8vd3d3LmJvb21saXZlLmluL2ZhY3QtY2hlY2svaW5kaWFuLWV4cHJlc3MtYWRtaXRzLWVycm9yLWluLXVzaW5nLWtvbGthdGEtZmx5b3Zlci1waG90by1pbi11cC1nb3Z0LWFkLTE0NjY40gEA?hl=en-IN&gl=IN&ceid=IN%3Aen\n",
      "\n",
      "./articles/CBMicWh0dHBzOi8vd3d3LmJvb21saXZlLmluL2ZhY3QtY2hlY2svaW5kaWFuLWV4cHJlc3MtYWRtaXRzLWVycm9yLWluLXVzaW5nLWtvbGthdGEtZmx5b3Zlci1waG90by1pbi11cC1nb3Z0LWFkLTE0NjY40gEA?hl=en-IN&gl=IN&ceid=IN%3Aen\n",
      "\n",
      "./articles/CBMiiwFodHRwczovL3d3dy5pbmRpYXRvZGF5LmluL2ZhY3QtY2hlY2svc3RvcnkvZmFjdC1jaGVjay12aWRlby1mcm9tLWZlYXR1cmUtZmlsbS12aXJhbC1hcy10YWxpYmFuLWRldGFpbmluZy1hZmdoYW4tY2l0aXplbnMtMTg1MTc4NC0yMDIxLTA5LTEx0gEA?hl=en-IN&gl=IN&ceid=IN%3Aen\n",
      "\n",
      "./articles/CBMiiwFodHRwczovL3d3dy5pbmRpYXRvZGF5LmluL2ZhY3QtY2hlY2svc3RvcnkvZmFjdC1jaGVjay12aWRlby1mcm9tLWZlYXR1cmUtZmlsbS12aXJhbC1hcy10YWxpYmFuLWRldGFpbmluZy1hZmdoYW4tY2l0aXplbnMtMTg1MTc4NC0yMDIxLTA5LTEx0gEA?hl=en-IN&gl=IN&ceid=IN%3Aen\n",
      "\n",
      "./articles/CBMiggFodHRwczovL3Njcm9sbC5pbi9hcnRpY2xlLzEwMDQ5NzkvZmFjdC1jaGVja2luZy1ianAtbGVnaXNsYXRvcnMtY2xhaW0tdGhhdC10YWxpYmFuLWlzLXJlc3BvbnNpYmxlLWZvci10aGUtZnVlbC1wcmljZS1oaWtlLWluLWluZGlh0gEA?hl=en-IN&gl=IN&ceid=IN%3Aen\n",
      "\n",
      "./articles/CBMiggFodHRwczovL3Njcm9sbC5pbi9hcnRpY2xlLzEwMDQ5NzkvZmFjdC1jaGVja2luZy1ianAtbGVnaXNsYXRvcnMtY2xhaW0tdGhhdC10YWxpYmFuLWlzLXJlc3BvbnNpYmxlLWZvci10aGUtZnVlbC1wcmljZS1oaWtlLWluLWluZGlh0gEA?hl=en-IN&gl=IN&ceid=IN%3Aen\n",
      "\n",
      "./articles/CBMiUWh0dHBzOi8vd3d3LmJvb21saXZlLmluL3dvcmxkL2Zha2UtbmV3cy1qYXBhbi1pdmVybWVjdGluLWNvdmlkLTE5LXRyZWF0bWVudC0xNDY1ONIBAA?hl=en-IN&gl=IN&ceid=IN%3Aen\n",
      "\n",
      "./articles/CBMiUWh0dHBzOi8vd3d3LmJvb21saXZlLmluL3dvcmxkL2Zha2UtbmV3cy1qYXBhbi1pdmVybWVjdGluLWNvdmlkLTE5LXRyZWF0bWVudC0xNDY1ONIBAA?hl=en-IN&gl=IN&ceid=IN%3Aen\n"
     ]
    }
   ],
   "source": [
    "class Scraper:\n",
    "    def __init__(self, site):\n",
    "        self.site = site\n",
    "\n",
    "    def scrape(self):\n",
    "        r = urllib.request.urlopen(self.site)\n",
    "        html = r.read()\n",
    "        parser = \"html.parser\"\n",
    "        soup = BeautifulSoup(html,parser)\n",
    "        for tag in soup.find_all(\"a\"):\n",
    "            url = tag.get(\"href\")\n",
    "            if url is None:\n",
    "                continue\n",
    "            if \"articles\" in url:\n",
    "                print(\"\\n\" + url)\n",
    "\n",
    "news = \"https://news.google.com/\"\n",
    "# news = \"https://www.analyticsvidhya.com/blog/2021/05/25-questions-to-test-your-skills-on-decision-trees/\"\n",
    "Scraper(news).scrape()"
   ]
  },
  {
   "cell_type": "code",
   "execution_count": 47,
   "id": "a4c35a18",
   "metadata": {},
   "outputs": [],
   "source": [
    "S1 = Scraper(news)"
   ]
  },
  {
   "cell_type": "code",
   "execution_count": 51,
   "id": "5fbab22f",
   "metadata": {},
   "outputs": [
    {
     "name": "stdout",
     "output_type": "stream",
     "text": [
      "https://news.google.com/\n"
     ]
    }
   ],
   "source": [
    "print(S1.site)"
   ]
  },
  {
   "cell_type": "code",
   "execution_count": null,
   "id": "8724ed11",
   "metadata": {},
   "outputs": [],
   "source": []
  },
  {
   "cell_type": "code",
   "execution_count": null,
   "id": "67562ffb",
   "metadata": {},
   "outputs": [],
   "source": []
  },
  {
   "cell_type": "code",
   "execution_count": 52,
   "id": "2721d6a9",
   "metadata": {},
   "outputs": [],
   "source": [
    "# !pip install numpy==1.19.5\n",
    "# !pip install beautifulsoup4==4.6.3\n",
    "\n",
    "# making the necessary imports\n",
    "from pprint import pprint\n",
    "from bs4 import BeautifulSoup\n",
    "from urllib.request import urlopen "
   ]
  },
  {
   "cell_type": "code",
   "execution_count": 53,
   "id": "0d0e22fa",
   "metadata": {},
   "outputs": [],
   "source": [
    "myurl = \"https://stackoverflow.com/questions/415511/how-to-get-the-current-time-in-python\" # specify the url\n",
    "html = urlopen(myurl).read() # query the website so that it returns a html page  \n",
    "soupified = BeautifulSoup(html, 'html.parser') # parse the html in the 'html' variable, and store it in Beautiful Soup format"
   ]
  },
  {
   "cell_type": "code",
   "execution_count": 54,
   "id": "2ac66de0",
   "metadata": {},
   "outputs": [
    {
     "name": "stdout",
     "output_type": "stream",
     "text": [
      "('<!DOCTYPE html>\\n'\n",
      " '<html class=\"html__responsive\" itemscope=\"\" '\n",
      " 'itemtype=\"https://schema.org/QAPage\">\\n'\n",
      " ' <head>\\n'\n",
      " '  <title>\\n'\n",
      " '   datetime - How to get the current time in Python - Stack Overflow\\n'\n",
      " '  </title>\\n'\n",
      " '  <link '\n",
      " 'href=\"https://cdn.sstatic.net/Sites/stackoverflow/Img/favicon.ico?v=ec617d715196\" '\n",
      " 'rel=\"shortcut icon\"/>\\n'\n",
      " '  <link '\n",
      " 'href=\"https://cdn.sstatic.net/Sites/stackoverflow/Img/apple-touch-icon.png?v=c78bd457575a\" '\n",
      " 'rel=\"apple-touch-icon\"/>\\n'\n",
      " '  <link '\n",
      " 'href=\"https://cdn.sstatic.net/Sites/stackoverflow/Img/apple-touch-icon.png?v=c78bd457575a\" '\n",
      " 'rel=\"image_src\"/>\\n'\n",
      " '  <link href=\"/opensearch.xml\" rel=\"search\" title=\"Stack Overflow\" '\n",
      " 'type=\"application/opensearchdescription+xml\"/>\\n'\n",
      " '  <link '\n",
      " 'href=\"https://stackoverflow.com/questions/415511/how-to-get-the-current-time-in-python\" '\n",
      " 'rel=\"canonical\">\\n'\n",
      " '   <meta content=\"width=device-width, height=device-height, '\n",
      " 'initial-scale=1.0, minimum-scale=1.0\" name=\"viewport\"/>\\n'\n",
      " '   <meta content=\"website\" property=\"og:type\">\\n'\n",
      " '    <meta '\n",
      " 'content=\"https://stackoverflow.com/questions/415511/how-to-get-the-current-time-in-python\" '\n",
      " 'property=\"og:url\"/>\\n'\n",
      " '    <meta content=\"Stack Overflow\" property=\"og:site_name\"/>\\n'\n",
      " '    <meta '\n",
      " 'content=\"https://cdn.sstatic.net/Sites/stackoverflow/Img/apple-touch-icon@2.png?v=73d79a89bded\" '\n",
      " 'itemprop=\"image primaryImageOfPage\" property=\"og:image\"/>\\n'\n",
      " '    <meta content=\"summary\" name=\"twitter:card\"/>\\n'\n",
      " '    <meta content=\"stackoverflow.com\" name=\"twitter:domain\"/>\\n'\n",
      " '    <meta content=\"How to get the current time in Python\" itemprop=\"name\" '\n",
      " 'name=\"twitter:title\" property=\"og:title\"/>\\n'\n",
      " '    <meta content=\"What is the module/method used to get the current time?\" '\n",
      " 'itemprop=\"description\" name=\"twitter:description\" '\n",
      " 'property=\"og:description\"/>\\n'\n",
      " '    <script '\n",
      " 'src=\"https://ajax.googleapis.com/ajax/libs/jquery/1.12.4/jquery.min.js\">\\n'\n",
      " '    </script>\\n'\n",
      " '    <script src=\"https://cdn.sstatic.net/Js/stub.en.js?v=1e259bd57560\">\\n'\n",
      " '    </script>\\n'\n",
      " '    <link href=\"https://cdn.sstatic.net/Shared/stacks.css?v=d6e71d1b13f1\" '\n",
      " 'rel=\"stylesheet\" type=\"text/css\"/>\\n'\n",
      " '    <link href=\"https://cdn.sstatic.ne')\n"
     ]
    }
   ],
   "source": [
    "# As the size of the HTML webpage (soupified) is large, we are just showing some of its output (only 2000 characters).\n",
    "# pprint(soupified.prettify())      # for printing the full HTML structure of the webpage\n",
    "pprint(soupified.prettify()[:2000]) # to get an idea of the html structure of the webpage "
   ]
  },
  {
   "cell_type": "code",
   "execution_count": 55,
   "id": "a84bf59f",
   "metadata": {},
   "outputs": [
    {
     "data": {
      "text/plain": [
       "<title>datetime - How to get the current time in Python - Stack Overflow</title>"
      ]
     },
     "execution_count": 55,
     "metadata": {},
     "output_type": "execute_result"
    }
   ],
   "source": [
    "soupified.title # to get the title of the web page "
   ]
  },
  {
   "cell_type": "code",
   "execution_count": 58,
   "id": "fd64ed84",
   "metadata": {},
   "outputs": [
    {
     "name": "stdout",
     "output_type": "stream",
     "text": [
      "Question: \n",
      " What is the module/method used to get the current time?\n"
     ]
    }
   ],
   "source": [
    "question = soupified.find(\"div\", {\"class\": \"question\"}) # find the nevessary tag and class which it belongs to\n",
    "questiontext = question.find(\"div\", {\"class\": \"s-prose js-post-body\"})\n",
    "print(\"Question: \\n\", questiontext.get_text().strip())"
   ]
  },
  {
   "cell_type": "code",
   "execution_count": 61,
   "id": "a6774da6",
   "metadata": {
    "scrolled": true
   },
   "outputs": [
    {
     "name": "stdout",
     "output_type": "stream",
     "text": [
      "Best answer: \n",
      " Use:\n",
      ">>> import datetime\n",
      ">>> datetime.datetime.now()\n",
      "datetime.datetime(2009, 1, 6, 15, 8, 24, 78915)\n",
      "\n",
      ">>> print(datetime.datetime.now())\n",
      "2009-01-06 15:08:24.789150\n",
      "\n",
      "And just the time:\n",
      ">>> datetime.datetime.now().time()\n",
      "datetime.time(15, 8, 24, 78915)\n",
      "\n",
      ">>> print(datetime.datetime.now().time())\n",
      "15:08:24.789150\n",
      "\n",
      "See the documentation for more information.\n",
      "To save typing, you can import the datetime object from the datetime module:\n",
      ">>> from datetime import datetime\n",
      "\n",
      "Then remove the leading datetime. from all of the above.\n"
     ]
    }
   ],
   "source": [
    "answer = soupified.find(\"div\", {\"class\": \"answer\"}) # find the nevessary tag and class which it belongs to\n",
    "answertext = answer.find(\"div\", {\"class\": \"s-prose js-post-body\"})\n",
    "print(\"Best answer: \\n\", answertext.get_text().strip())\n",
    "# BeautifulSoup is one of the many libraries which allow us to scrape web pages. Depending on your needs you can choose between the many available choices like beautifulsoup, scrapy, selenium, etc"
   ]
  },
  {
   "cell_type": "code",
   "execution_count": null,
   "id": "b07245f4",
   "metadata": {},
   "outputs": [],
   "source": []
  }
 ],
 "metadata": {
  "kernelspec": {
   "display_name": "Python 3",
   "language": "python",
   "name": "python3"
  },
  "language_info": {
   "codemirror_mode": {
    "name": "ipython",
    "version": 3
   },
   "file_extension": ".py",
   "mimetype": "text/x-python",
   "name": "python",
   "nbconvert_exporter": "python",
   "pygments_lexer": "ipython3",
   "version": "3.8.8"
  },
  "toc": {
   "base_numbering": 1,
   "nav_menu": {},
   "number_sections": true,
   "sideBar": true,
   "skip_h1_title": false,
   "title_cell": "Table of Contents",
   "title_sidebar": "Contents",
   "toc_cell": false,
   "toc_position": {},
   "toc_section_display": true,
   "toc_window_display": false
  },
  "varInspector": {
   "cols": {
    "lenName": 16,
    "lenType": 16,
    "lenVar": 40
   },
   "kernels_config": {
    "python": {
     "delete_cmd_postfix": "",
     "delete_cmd_prefix": "del ",
     "library": "var_list.py",
     "varRefreshCmd": "print(var_dic_list())"
    },
    "r": {
     "delete_cmd_postfix": ") ",
     "delete_cmd_prefix": "rm(",
     "library": "var_list.r",
     "varRefreshCmd": "cat(var_dic_list()) "
    }
   },
   "types_to_exclude": [
    "module",
    "function",
    "builtin_function_or_method",
    "instance",
    "_Feature"
   ],
   "window_display": false
  }
 },
 "nbformat": 4,
 "nbformat_minor": 5
}
